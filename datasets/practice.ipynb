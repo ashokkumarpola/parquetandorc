version https://git-lfs.github.com/spec/v1
oid sha256:81ecf04c40f4ab9f941b309b556383a96e9e9feefd609bc768f1ca258d5ddd3c
size 51481
